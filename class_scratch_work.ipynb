{
 "cells": [
  {
   "cell_type": "code",
   "execution_count": 137,
   "metadata": {},
   "outputs": [],
   "source": [
    "from dataclasses import dataclass, field\n",
    "from abc import ABC, abstractmethod\n",
    "\n",
    "@dataclass\n",
    "class Network:\n",
    "    latest_block: int = 0\n",
    "    chain_id: str = \"\"\n",
    "    protocols: list = field(default_factory=list)\n",
    "\n",
    "@dataclass\n",
    "class Osmosis(Network): \n",
    "        \n",
    "    def add_protocol(self, protocol):\n",
    "        self.protocols.append(protocol)\n",
    "\n",
    "    def swap():\n",
    "        pass\n",
    "\n",
    "@dataclass\n",
    "class Contract(Network, ABC):\n",
    "    \n",
    "    @abstractmethod\n",
    "    def convert_msg_to_swaps(self, message_value, msg):\n",
    "        pass\n",
    "\n",
    "@dataclass\n",
    "class Pool(Contract):\n",
    "\n",
    "    def convert_msg_to_swaps(self, message_value, msg):\n",
    "        pass"
   ]
  },
  {
   "cell_type": "code",
   "execution_count": 138,
   "metadata": {},
   "outputs": [
    {
     "ename": "TypeError",
     "evalue": "Can't instantiate abstract class Contract with abstract method convert_msg_to_swaps",
     "output_type": "error",
     "traceback": [
      "\u001b[0;31m---------------------------------------------------------------------------\u001b[0m",
      "\u001b[0;31mTypeError\u001b[0m                                 Traceback (most recent call last)",
      "Cell \u001b[0;32mIn [138], line 1\u001b[0m\n\u001b[0;32m----> 1\u001b[0m contract \u001b[39m=\u001b[39m Contract()\n",
      "\u001b[0;31mTypeError\u001b[0m: Can't instantiate abstract class Contract with abstract method convert_msg_to_swaps"
     ]
    }
   ],
   "source": [
    "contract = Contract()"
   ]
  },
  {
   "cell_type": "code",
   "execution_count": 139,
   "metadata": {},
   "outputs": [],
   "source": [
    "pool = Pool()"
   ]
  },
  {
   "cell_type": "code",
   "execution_count": 140,
   "metadata": {},
   "outputs": [
    {
     "data": {
      "text/plain": [
       "''"
      ]
     },
     "execution_count": 140,
     "metadata": {},
     "output_type": "execute_result"
    }
   ],
   "source": [
    "pool.chain_id"
   ]
  },
  {
   "cell_type": "code",
   "execution_count": 131,
   "metadata": {},
   "outputs": [],
   "source": [
    "network_1 = Network()\n",
    "network_2 = Network()"
   ]
  },
  {
   "cell_type": "code",
   "execution_count": 116,
   "metadata": {},
   "outputs": [],
   "source": [
    "network_1.add_protocol(\"protocol_1\")"
   ]
  },
  {
   "cell_type": "code",
   "execution_count": 118,
   "metadata": {},
   "outputs": [
    {
     "data": {
      "text/plain": [
       "['protocol_1']"
      ]
     },
     "execution_count": 118,
     "metadata": {},
     "output_type": "execute_result"
    }
   ],
   "source": [
    "network_1.protocols"
   ]
  },
  {
   "cell_type": "code",
   "execution_count": 119,
   "metadata": {},
   "outputs": [],
   "source": [
    "osmosis = Osmosis()"
   ]
  },
  {
   "cell_type": "code",
   "execution_count": 127,
   "metadata": {},
   "outputs": [],
   "source": [
    "osmosis.add_protocol(\"protocol_1\")"
   ]
  },
  {
   "cell_type": "code",
   "execution_count": 128,
   "metadata": {},
   "outputs": [
    {
     "data": {
      "text/plain": [
       "Osmosis(latest_block=0, chain_id='', protocols=['protocol_1'])"
      ]
     },
     "execution_count": 128,
     "metadata": {},
     "output_type": "execute_result"
    }
   ],
   "source": [
    "osmosis"
   ]
  },
  {
   "cell_type": "code",
   "execution_count": 125,
   "metadata": {},
   "outputs": [],
   "source": [
    "osmosis = Osmosis()"
   ]
  },
  {
   "cell_type": "code",
   "execution_count": 126,
   "metadata": {},
   "outputs": [
    {
     "data": {
      "text/plain": [
       "[]"
      ]
     },
     "execution_count": 126,
     "metadata": {},
     "output_type": "execute_result"
    }
   ],
   "source": [
    "osmosis.protocols"
   ]
  },
  {
   "cell_type": "code",
   "execution_count": 73,
   "metadata": {},
   "outputs": [
    {
     "ename": "AttributeError",
     "evalue": "'Osmosis' object has no attribute 'protocols'",
     "output_type": "error",
     "traceback": [
      "\u001b[0;31m---------------------------------------------------------------------------\u001b[0m",
      "\u001b[0;31mAttributeError\u001b[0m                            Traceback (most recent call last)",
      "Cell \u001b[0;32mIn [73], line 1\u001b[0m\n\u001b[0;32m----> 1\u001b[0m osmosis\u001b[39m.\u001b[39;49mprotocols\n",
      "\u001b[0;31mAttributeError\u001b[0m: 'Osmosis' object has no attribute 'protocols'"
     ]
    }
   ],
   "source": [
    "osmosis.protocols"
   ]
  },
  {
   "cell_type": "code",
   "execution_count": 39,
   "metadata": {},
   "outputs": [
    {
     "data": {
      "text/plain": [
       "'osmosis-1'"
      ]
     },
     "execution_count": 39,
     "metadata": {},
     "output_type": "execute_result"
    }
   ],
   "source": [
    "osmosis.chain_id"
   ]
  },
  {
   "cell_type": "code",
   "execution_count": 22,
   "metadata": {},
   "outputs": [],
   "source": [
    "network.latest_block = 100"
   ]
  },
  {
   "cell_type": "code",
   "execution_count": 23,
   "metadata": {},
   "outputs": [
    {
     "data": {
      "text/plain": [
       "100"
      ]
     },
     "execution_count": 23,
     "metadata": {},
     "output_type": "execute_result"
    }
   ],
   "source": [
    "network.latest_block"
   ]
  },
  {
   "cell_type": "code",
   "execution_count": 9,
   "metadata": {},
   "outputs": [],
   "source": [
    "network.chain_id = \"juno-2\""
   ]
  },
  {
   "cell_type": "code",
   "execution_count": 24,
   "metadata": {},
   "outputs": [
    {
     "data": {
      "text/plain": [
       "''"
      ]
     },
     "execution_count": 24,
     "metadata": {},
     "output_type": "execute_result"
    }
   ],
   "source": [
    "network.chain_id"
   ]
  },
  {
   "cell_type": "code",
   "execution_count": 104,
   "metadata": {},
   "outputs": [],
   "source": [
    "class C:\n",
    "    x = []\n",
    "    def add(self, element):\n",
    "        self.x.append(element)\n",
    "\n",
    "o1 = C()\n",
    "o2 = C()\n",
    "o1.add(1)\n",
    "o2.add(2)\n",
    "assert o1.x == [1, 2]\n",
    "assert o1.x is o2.x"
   ]
  },
  {
   "cell_type": "code",
   "execution_count": 106,
   "metadata": {},
   "outputs": [
    {
     "data": {
      "text/plain": [
       "[1, 2]"
      ]
     },
     "execution_count": 106,
     "metadata": {},
     "output_type": "execute_result"
    }
   ],
   "source": [
    "o1.x"
   ]
  },
  {
   "cell_type": "code",
   "execution_count": 107,
   "metadata": {},
   "outputs": [
    {
     "data": {
      "text/plain": [
       "[1, 2]"
      ]
     },
     "execution_count": 107,
     "metadata": {},
     "output_type": "execute_result"
    }
   ],
   "source": [
    "o2.x"
   ]
  },
  {
   "cell_type": "code",
   "execution_count": null,
   "metadata": {},
   "outputs": [],
   "source": [
    "@dataclass\n",
    "class Contract:\n",
    "    contract_address: str\n",
    "    reserves_1: int\n",
    "    reserves_2: int\n",
    "    reserves_input: int = 0\n",
    "    reserves_output: int = 0\n",
    "    routes: list[str] = field(default_factory=list)\n",
    "\n",
    "    def add_route(self, route: str):\n",
    "        self.routes.append(route)\n",
    "\n",
    "@dataclass\n",
    "class State:\n",
    "    contracts: dict[str, Contract] = field(default_factory=dict)\n",
    "\n",
    "    def add_contract(self, contract: Contract):\n",
    "        self.contracts[contract.contract_address] = contract\n"
   ]
  }
 ],
 "metadata": {
  "kernelspec": {
   "display_name": "venv",
   "language": "python",
   "name": "python3"
  },
  "language_info": {
   "codemirror_mode": {
    "name": "ipython",
    "version": 3
   },
   "file_extension": ".py",
   "mimetype": "text/x-python",
   "name": "python",
   "nbconvert_exporter": "python",
   "pygments_lexer": "ipython3",
   "version": "3.10.8"
  },
  "orig_nbformat": 4,
  "vscode": {
   "interpreter": {
    "hash": "7bf37efb3762c496fa9237459a905dee71747cba5458d0c3e64528b7e7f9d139"
   }
  }
 },
 "nbformat": 4,
 "nbformat_minor": 2
}
